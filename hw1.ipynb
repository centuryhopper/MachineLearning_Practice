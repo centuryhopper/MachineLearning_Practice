{
  "nbformat": 4,
  "nbformat_minor": 0,
  "metadata": {
    "colab": {
      "provenance": [],
      "authorship_tag": "ABX9TyOBHQXLQQuacN+/g5m4KXog",
      "include_colab_link": true
    },
    "kernelspec": {
      "name": "python3",
      "display_name": "Python 3"
    },
    "language_info": {
      "name": "python"
    }
  },
  "cells": [
    {
      "cell_type": "markdown",
      "metadata": {
        "id": "view-in-github",
        "colab_type": "text"
      },
      "source": [
        "<a href=\"https://colab.research.google.com/github/leozhang1/MachineLearning_Practice/blob/main/hw1.ipynb\" target=\"_parent\"><img src=\"https://colab.research.google.com/assets/colab-badge.svg\" alt=\"Open In Colab\"/></a>"
      ]
    },
    {
      "cell_type": "code",
      "execution_count": 2,
      "metadata": {
        "id": "dbHyHN-w5o_1"
      },
      "outputs": [],
      "source": [
        "# https://www.kaggle.com/c/titanic/data\n",
        "\n",
        "import pandas as pd\n",
        "import numpy as np\n",
        "import seaborn as sns\n",
        "import matplotlib.pyplot as plt\n",
        "\n",
        "train_df = pd.read_csv('./train.csv')\n",
        "test_df = pd.read_csv('./test.csv')\n"
      ]
    },
    {
      "cell_type": "markdown",
      "source": [
        "Q1: In training set, which features are available?\n"
      ],
      "metadata": {
        "id": "HH3sCQYF6IDU"
      }
    },
    {
      "cell_type": "code",
      "source": [
        "train_df.columns"
      ],
      "metadata": {
        "id": "GGz3y7QP6pCe",
        "colab": {
          "base_uri": "https://localhost:8080/"
        },
        "outputId": "d6cdc5cd-25ff-4edb-81de-877ec6e28c75"
      },
      "execution_count": 57,
      "outputs": [
        {
          "output_type": "execute_result",
          "data": {
            "text/plain": [
              "Index(['PassengerId', 'Survived', 'Pclass', 'Name', 'Sex', 'Age', 'SibSp',\n",
              "       'Parch', 'Ticket', 'Fare', 'Cabin', 'Embarked'],\n",
              "      dtype='object')"
            ]
          },
          "metadata": {},
          "execution_count": 57
        }
      ]
    },
    {
      "cell_type": "markdown",
      "source": [
        "Q2: In training set, which features are categorical?\n"
      ],
      "metadata": {
        "id": "EH7aglwC6Iee"
      }
    },
    {
      "cell_type": "code",
      "source": [
        "train_df.select_dtypes(include=object)"
      ],
      "metadata": {
        "id": "-GEn9mUe6pkH",
        "colab": {
          "base_uri": "https://localhost:8080/",
          "height": 424
        },
        "outputId": "1ba36b71-fd87-4e07-ee52-338e2c058952"
      },
      "execution_count": 59,
      "outputs": [
        {
          "output_type": "execute_result",
          "data": {
            "text/plain": [
              "                                                  Name     Sex  \\\n",
              "0                              Braund, Mr. Owen Harris    male   \n",
              "1    Cumings, Mrs. John Bradley (Florence Briggs Th...  female   \n",
              "2                               Heikkinen, Miss. Laina  female   \n",
              "3         Futrelle, Mrs. Jacques Heath (Lily May Peel)  female   \n",
              "4                             Allen, Mr. William Henry    male   \n",
              "..                                                 ...     ...   \n",
              "886                              Montvila, Rev. Juozas    male   \n",
              "887                       Graham, Miss. Margaret Edith  female   \n",
              "888           Johnston, Miss. Catherine Helen \"Carrie\"  female   \n",
              "889                              Behr, Mr. Karl Howell    male   \n",
              "890                                Dooley, Mr. Patrick    male   \n",
              "\n",
              "               Ticket Cabin Embarked  \n",
              "0           A/5 21171   NaN        S  \n",
              "1            PC 17599   C85        C  \n",
              "2    STON/O2. 3101282   NaN        S  \n",
              "3              113803  C123        S  \n",
              "4              373450   NaN        S  \n",
              "..                ...   ...      ...  \n",
              "886            211536   NaN        S  \n",
              "887            112053   B42        S  \n",
              "888        W./C. 6607   NaN        S  \n",
              "889            111369  C148        C  \n",
              "890            370376   NaN        Q  \n",
              "\n",
              "[891 rows x 5 columns]"
            ],
            "text/html": [
              "\n",
              "  <div id=\"df-89edf6f7-8524-4437-b502-fdd8d7b53da0\">\n",
              "    <div class=\"colab-df-container\">\n",
              "      <div>\n",
              "<style scoped>\n",
              "    .dataframe tbody tr th:only-of-type {\n",
              "        vertical-align: middle;\n",
              "    }\n",
              "\n",
              "    .dataframe tbody tr th {\n",
              "        vertical-align: top;\n",
              "    }\n",
              "\n",
              "    .dataframe thead th {\n",
              "        text-align: right;\n",
              "    }\n",
              "</style>\n",
              "<table border=\"1\" class=\"dataframe\">\n",
              "  <thead>\n",
              "    <tr style=\"text-align: right;\">\n",
              "      <th></th>\n",
              "      <th>Name</th>\n",
              "      <th>Sex</th>\n",
              "      <th>Ticket</th>\n",
              "      <th>Cabin</th>\n",
              "      <th>Embarked</th>\n",
              "    </tr>\n",
              "  </thead>\n",
              "  <tbody>\n",
              "    <tr>\n",
              "      <th>0</th>\n",
              "      <td>Braund, Mr. Owen Harris</td>\n",
              "      <td>male</td>\n",
              "      <td>A/5 21171</td>\n",
              "      <td>NaN</td>\n",
              "      <td>S</td>\n",
              "    </tr>\n",
              "    <tr>\n",
              "      <th>1</th>\n",
              "      <td>Cumings, Mrs. John Bradley (Florence Briggs Th...</td>\n",
              "      <td>female</td>\n",
              "      <td>PC 17599</td>\n",
              "      <td>C85</td>\n",
              "      <td>C</td>\n",
              "    </tr>\n",
              "    <tr>\n",
              "      <th>2</th>\n",
              "      <td>Heikkinen, Miss. Laina</td>\n",
              "      <td>female</td>\n",
              "      <td>STON/O2. 3101282</td>\n",
              "      <td>NaN</td>\n",
              "      <td>S</td>\n",
              "    </tr>\n",
              "    <tr>\n",
              "      <th>3</th>\n",
              "      <td>Futrelle, Mrs. Jacques Heath (Lily May Peel)</td>\n",
              "      <td>female</td>\n",
              "      <td>113803</td>\n",
              "      <td>C123</td>\n",
              "      <td>S</td>\n",
              "    </tr>\n",
              "    <tr>\n",
              "      <th>4</th>\n",
              "      <td>Allen, Mr. William Henry</td>\n",
              "      <td>male</td>\n",
              "      <td>373450</td>\n",
              "      <td>NaN</td>\n",
              "      <td>S</td>\n",
              "    </tr>\n",
              "    <tr>\n",
              "      <th>...</th>\n",
              "      <td>...</td>\n",
              "      <td>...</td>\n",
              "      <td>...</td>\n",
              "      <td>...</td>\n",
              "      <td>...</td>\n",
              "    </tr>\n",
              "    <tr>\n",
              "      <th>886</th>\n",
              "      <td>Montvila, Rev. Juozas</td>\n",
              "      <td>male</td>\n",
              "      <td>211536</td>\n",
              "      <td>NaN</td>\n",
              "      <td>S</td>\n",
              "    </tr>\n",
              "    <tr>\n",
              "      <th>887</th>\n",
              "      <td>Graham, Miss. Margaret Edith</td>\n",
              "      <td>female</td>\n",
              "      <td>112053</td>\n",
              "      <td>B42</td>\n",
              "      <td>S</td>\n",
              "    </tr>\n",
              "    <tr>\n",
              "      <th>888</th>\n",
              "      <td>Johnston, Miss. Catherine Helen \"Carrie\"</td>\n",
              "      <td>female</td>\n",
              "      <td>W./C. 6607</td>\n",
              "      <td>NaN</td>\n",
              "      <td>S</td>\n",
              "    </tr>\n",
              "    <tr>\n",
              "      <th>889</th>\n",
              "      <td>Behr, Mr. Karl Howell</td>\n",
              "      <td>male</td>\n",
              "      <td>111369</td>\n",
              "      <td>C148</td>\n",
              "      <td>C</td>\n",
              "    </tr>\n",
              "    <tr>\n",
              "      <th>890</th>\n",
              "      <td>Dooley, Mr. Patrick</td>\n",
              "      <td>male</td>\n",
              "      <td>370376</td>\n",
              "      <td>NaN</td>\n",
              "      <td>Q</td>\n",
              "    </tr>\n",
              "  </tbody>\n",
              "</table>\n",
              "<p>891 rows × 5 columns</p>\n",
              "</div>\n",
              "      <button class=\"colab-df-convert\" onclick=\"convertToInteractive('df-89edf6f7-8524-4437-b502-fdd8d7b53da0')\"\n",
              "              title=\"Convert this dataframe to an interactive table.\"\n",
              "              style=\"display:none;\">\n",
              "        \n",
              "  <svg xmlns=\"http://www.w3.org/2000/svg\" height=\"24px\"viewBox=\"0 0 24 24\"\n",
              "       width=\"24px\">\n",
              "    <path d=\"M0 0h24v24H0V0z\" fill=\"none\"/>\n",
              "    <path d=\"M18.56 5.44l.94 2.06.94-2.06 2.06-.94-2.06-.94-.94-2.06-.94 2.06-2.06.94zm-11 1L8.5 8.5l.94-2.06 2.06-.94-2.06-.94L8.5 2.5l-.94 2.06-2.06.94zm10 10l.94 2.06.94-2.06 2.06-.94-2.06-.94-.94-2.06-.94 2.06-2.06.94z\"/><path d=\"M17.41 7.96l-1.37-1.37c-.4-.4-.92-.59-1.43-.59-.52 0-1.04.2-1.43.59L10.3 9.45l-7.72 7.72c-.78.78-.78 2.05 0 2.83L4 21.41c.39.39.9.59 1.41.59.51 0 1.02-.2 1.41-.59l7.78-7.78 2.81-2.81c.8-.78.8-2.07 0-2.86zM5.41 20L4 18.59l7.72-7.72 1.47 1.35L5.41 20z\"/>\n",
              "  </svg>\n",
              "      </button>\n",
              "      \n",
              "  <style>\n",
              "    .colab-df-container {\n",
              "      display:flex;\n",
              "      flex-wrap:wrap;\n",
              "      gap: 12px;\n",
              "    }\n",
              "\n",
              "    .colab-df-convert {\n",
              "      background-color: #E8F0FE;\n",
              "      border: none;\n",
              "      border-radius: 50%;\n",
              "      cursor: pointer;\n",
              "      display: none;\n",
              "      fill: #1967D2;\n",
              "      height: 32px;\n",
              "      padding: 0 0 0 0;\n",
              "      width: 32px;\n",
              "    }\n",
              "\n",
              "    .colab-df-convert:hover {\n",
              "      background-color: #E2EBFA;\n",
              "      box-shadow: 0px 1px 2px rgba(60, 64, 67, 0.3), 0px 1px 3px 1px rgba(60, 64, 67, 0.15);\n",
              "      fill: #174EA6;\n",
              "    }\n",
              "\n",
              "    [theme=dark] .colab-df-convert {\n",
              "      background-color: #3B4455;\n",
              "      fill: #D2E3FC;\n",
              "    }\n",
              "\n",
              "    [theme=dark] .colab-df-convert:hover {\n",
              "      background-color: #434B5C;\n",
              "      box-shadow: 0px 1px 3px 1px rgba(0, 0, 0, 0.15);\n",
              "      filter: drop-shadow(0px 1px 2px rgba(0, 0, 0, 0.3));\n",
              "      fill: #FFFFFF;\n",
              "    }\n",
              "  </style>\n",
              "\n",
              "      <script>\n",
              "        const buttonEl =\n",
              "          document.querySelector('#df-89edf6f7-8524-4437-b502-fdd8d7b53da0 button.colab-df-convert');\n",
              "        buttonEl.style.display =\n",
              "          google.colab.kernel.accessAllowed ? 'block' : 'none';\n",
              "\n",
              "        async function convertToInteractive(key) {\n",
              "          const element = document.querySelector('#df-89edf6f7-8524-4437-b502-fdd8d7b53da0');\n",
              "          const dataTable =\n",
              "            await google.colab.kernel.invokeFunction('convertToInteractive',\n",
              "                                                     [key], {});\n",
              "          if (!dataTable) return;\n",
              "\n",
              "          const docLinkHtml = 'Like what you see? Visit the ' +\n",
              "            '<a target=\"_blank\" href=https://colab.research.google.com/notebooks/data_table.ipynb>data table notebook</a>'\n",
              "            + ' to learn more about interactive tables.';\n",
              "          element.innerHTML = '';\n",
              "          dataTable['output_type'] = 'display_data';\n",
              "          await google.colab.output.renderOutput(dataTable, element);\n",
              "          const docLink = document.createElement('div');\n",
              "          docLink.innerHTML = docLinkHtml;\n",
              "          element.appendChild(docLink);\n",
              "        }\n",
              "      </script>\n",
              "    </div>\n",
              "  </div>\n",
              "  "
            ]
          },
          "metadata": {},
          "execution_count": 59
        }
      ]
    },
    {
      "cell_type": "markdown",
      "source": [
        "Q3: In training set, which features are numerical (e.g., discrete, continuous, or time series based)?\n"
      ],
      "metadata": {
        "id": "q2fKz2oX6I2B"
      }
    },
    {
      "cell_type": "code",
      "source": [
        "train_df.select_dtypes(include=np.number)"
      ],
      "metadata": {
        "id": "ZislDIc46qCr",
        "colab": {
          "base_uri": "https://localhost:8080/",
          "height": 424
        },
        "outputId": "d963a842-223f-4127-aecb-afd1822438cd"
      },
      "execution_count": 60,
      "outputs": [
        {
          "output_type": "execute_result",
          "data": {
            "text/plain": [
              "     PassengerId  Survived  Pclass   Age  SibSp  Parch     Fare\n",
              "0              1         0       3  22.0      1      0   7.2500\n",
              "1              2         1       1  38.0      1      0  71.2833\n",
              "2              3         1       3  26.0      0      0   7.9250\n",
              "3              4         1       1  35.0      1      0  53.1000\n",
              "4              5         0       3  35.0      0      0   8.0500\n",
              "..           ...       ...     ...   ...    ...    ...      ...\n",
              "886          887         0       2  27.0      0      0  13.0000\n",
              "887          888         1       1  19.0      0      0  30.0000\n",
              "888          889         0       3   NaN      1      2  23.4500\n",
              "889          890         1       1  26.0      0      0  30.0000\n",
              "890          891         0       3  32.0      0      0   7.7500\n",
              "\n",
              "[891 rows x 7 columns]"
            ],
            "text/html": [
              "\n",
              "  <div id=\"df-4af4dc87-80f2-4590-be57-26fdfadedb84\">\n",
              "    <div class=\"colab-df-container\">\n",
              "      <div>\n",
              "<style scoped>\n",
              "    .dataframe tbody tr th:only-of-type {\n",
              "        vertical-align: middle;\n",
              "    }\n",
              "\n",
              "    .dataframe tbody tr th {\n",
              "        vertical-align: top;\n",
              "    }\n",
              "\n",
              "    .dataframe thead th {\n",
              "        text-align: right;\n",
              "    }\n",
              "</style>\n",
              "<table border=\"1\" class=\"dataframe\">\n",
              "  <thead>\n",
              "    <tr style=\"text-align: right;\">\n",
              "      <th></th>\n",
              "      <th>PassengerId</th>\n",
              "      <th>Survived</th>\n",
              "      <th>Pclass</th>\n",
              "      <th>Age</th>\n",
              "      <th>SibSp</th>\n",
              "      <th>Parch</th>\n",
              "      <th>Fare</th>\n",
              "    </tr>\n",
              "  </thead>\n",
              "  <tbody>\n",
              "    <tr>\n",
              "      <th>0</th>\n",
              "      <td>1</td>\n",
              "      <td>0</td>\n",
              "      <td>3</td>\n",
              "      <td>22.0</td>\n",
              "      <td>1</td>\n",
              "      <td>0</td>\n",
              "      <td>7.2500</td>\n",
              "    </tr>\n",
              "    <tr>\n",
              "      <th>1</th>\n",
              "      <td>2</td>\n",
              "      <td>1</td>\n",
              "      <td>1</td>\n",
              "      <td>38.0</td>\n",
              "      <td>1</td>\n",
              "      <td>0</td>\n",
              "      <td>71.2833</td>\n",
              "    </tr>\n",
              "    <tr>\n",
              "      <th>2</th>\n",
              "      <td>3</td>\n",
              "      <td>1</td>\n",
              "      <td>3</td>\n",
              "      <td>26.0</td>\n",
              "      <td>0</td>\n",
              "      <td>0</td>\n",
              "      <td>7.9250</td>\n",
              "    </tr>\n",
              "    <tr>\n",
              "      <th>3</th>\n",
              "      <td>4</td>\n",
              "      <td>1</td>\n",
              "      <td>1</td>\n",
              "      <td>35.0</td>\n",
              "      <td>1</td>\n",
              "      <td>0</td>\n",
              "      <td>53.1000</td>\n",
              "    </tr>\n",
              "    <tr>\n",
              "      <th>4</th>\n",
              "      <td>5</td>\n",
              "      <td>0</td>\n",
              "      <td>3</td>\n",
              "      <td>35.0</td>\n",
              "      <td>0</td>\n",
              "      <td>0</td>\n",
              "      <td>8.0500</td>\n",
              "    </tr>\n",
              "    <tr>\n",
              "      <th>...</th>\n",
              "      <td>...</td>\n",
              "      <td>...</td>\n",
              "      <td>...</td>\n",
              "      <td>...</td>\n",
              "      <td>...</td>\n",
              "      <td>...</td>\n",
              "      <td>...</td>\n",
              "    </tr>\n",
              "    <tr>\n",
              "      <th>886</th>\n",
              "      <td>887</td>\n",
              "      <td>0</td>\n",
              "      <td>2</td>\n",
              "      <td>27.0</td>\n",
              "      <td>0</td>\n",
              "      <td>0</td>\n",
              "      <td>13.0000</td>\n",
              "    </tr>\n",
              "    <tr>\n",
              "      <th>887</th>\n",
              "      <td>888</td>\n",
              "      <td>1</td>\n",
              "      <td>1</td>\n",
              "      <td>19.0</td>\n",
              "      <td>0</td>\n",
              "      <td>0</td>\n",
              "      <td>30.0000</td>\n",
              "    </tr>\n",
              "    <tr>\n",
              "      <th>888</th>\n",
              "      <td>889</td>\n",
              "      <td>0</td>\n",
              "      <td>3</td>\n",
              "      <td>NaN</td>\n",
              "      <td>1</td>\n",
              "      <td>2</td>\n",
              "      <td>23.4500</td>\n",
              "    </tr>\n",
              "    <tr>\n",
              "      <th>889</th>\n",
              "      <td>890</td>\n",
              "      <td>1</td>\n",
              "      <td>1</td>\n",
              "      <td>26.0</td>\n",
              "      <td>0</td>\n",
              "      <td>0</td>\n",
              "      <td>30.0000</td>\n",
              "    </tr>\n",
              "    <tr>\n",
              "      <th>890</th>\n",
              "      <td>891</td>\n",
              "      <td>0</td>\n",
              "      <td>3</td>\n",
              "      <td>32.0</td>\n",
              "      <td>0</td>\n",
              "      <td>0</td>\n",
              "      <td>7.7500</td>\n",
              "    </tr>\n",
              "  </tbody>\n",
              "</table>\n",
              "<p>891 rows × 7 columns</p>\n",
              "</div>\n",
              "      <button class=\"colab-df-convert\" onclick=\"convertToInteractive('df-4af4dc87-80f2-4590-be57-26fdfadedb84')\"\n",
              "              title=\"Convert this dataframe to an interactive table.\"\n",
              "              style=\"display:none;\">\n",
              "        \n",
              "  <svg xmlns=\"http://www.w3.org/2000/svg\" height=\"24px\"viewBox=\"0 0 24 24\"\n",
              "       width=\"24px\">\n",
              "    <path d=\"M0 0h24v24H0V0z\" fill=\"none\"/>\n",
              "    <path d=\"M18.56 5.44l.94 2.06.94-2.06 2.06-.94-2.06-.94-.94-2.06-.94 2.06-2.06.94zm-11 1L8.5 8.5l.94-2.06 2.06-.94-2.06-.94L8.5 2.5l-.94 2.06-2.06.94zm10 10l.94 2.06.94-2.06 2.06-.94-2.06-.94-.94-2.06-.94 2.06-2.06.94z\"/><path d=\"M17.41 7.96l-1.37-1.37c-.4-.4-.92-.59-1.43-.59-.52 0-1.04.2-1.43.59L10.3 9.45l-7.72 7.72c-.78.78-.78 2.05 0 2.83L4 21.41c.39.39.9.59 1.41.59.51 0 1.02-.2 1.41-.59l7.78-7.78 2.81-2.81c.8-.78.8-2.07 0-2.86zM5.41 20L4 18.59l7.72-7.72 1.47 1.35L5.41 20z\"/>\n",
              "  </svg>\n",
              "      </button>\n",
              "      \n",
              "  <style>\n",
              "    .colab-df-container {\n",
              "      display:flex;\n",
              "      flex-wrap:wrap;\n",
              "      gap: 12px;\n",
              "    }\n",
              "\n",
              "    .colab-df-convert {\n",
              "      background-color: #E8F0FE;\n",
              "      border: none;\n",
              "      border-radius: 50%;\n",
              "      cursor: pointer;\n",
              "      display: none;\n",
              "      fill: #1967D2;\n",
              "      height: 32px;\n",
              "      padding: 0 0 0 0;\n",
              "      width: 32px;\n",
              "    }\n",
              "\n",
              "    .colab-df-convert:hover {\n",
              "      background-color: #E2EBFA;\n",
              "      box-shadow: 0px 1px 2px rgba(60, 64, 67, 0.3), 0px 1px 3px 1px rgba(60, 64, 67, 0.15);\n",
              "      fill: #174EA6;\n",
              "    }\n",
              "\n",
              "    [theme=dark] .colab-df-convert {\n",
              "      background-color: #3B4455;\n",
              "      fill: #D2E3FC;\n",
              "    }\n",
              "\n",
              "    [theme=dark] .colab-df-convert:hover {\n",
              "      background-color: #434B5C;\n",
              "      box-shadow: 0px 1px 3px 1px rgba(0, 0, 0, 0.15);\n",
              "      filter: drop-shadow(0px 1px 2px rgba(0, 0, 0, 0.3));\n",
              "      fill: #FFFFFF;\n",
              "    }\n",
              "  </style>\n",
              "\n",
              "      <script>\n",
              "        const buttonEl =\n",
              "          document.querySelector('#df-4af4dc87-80f2-4590-be57-26fdfadedb84 button.colab-df-convert');\n",
              "        buttonEl.style.display =\n",
              "          google.colab.kernel.accessAllowed ? 'block' : 'none';\n",
              "\n",
              "        async function convertToInteractive(key) {\n",
              "          const element = document.querySelector('#df-4af4dc87-80f2-4590-be57-26fdfadedb84');\n",
              "          const dataTable =\n",
              "            await google.colab.kernel.invokeFunction('convertToInteractive',\n",
              "                                                     [key], {});\n",
              "          if (!dataTable) return;\n",
              "\n",
              "          const docLinkHtml = 'Like what you see? Visit the ' +\n",
              "            '<a target=\"_blank\" href=https://colab.research.google.com/notebooks/data_table.ipynb>data table notebook</a>'\n",
              "            + ' to learn more about interactive tables.';\n",
              "          element.innerHTML = '';\n",
              "          dataTable['output_type'] = 'display_data';\n",
              "          await google.colab.output.renderOutput(dataTable, element);\n",
              "          const docLink = document.createElement('div');\n",
              "          docLink.innerHTML = docLinkHtml;\n",
              "          element.appendChild(docLink);\n",
              "        }\n",
              "      </script>\n",
              "    </div>\n",
              "  </div>\n",
              "  "
            ]
          },
          "metadata": {},
          "execution_count": 60
        }
      ]
    },
    {
      "cell_type": "markdown",
      "source": [
        "Q4: In training set, which features are mixed data types (Carbin is not mixed data type: [C19 C18\n",
        "C17], Ticket is a mixed data type: 342354, SA/12434324 )?\n"
      ],
      "metadata": {
        "id": "I4n3sMlZ6JCO"
      }
    },
    {
      "cell_type": "code",
      "source": [
        "mixed_columns = []\n",
        "\n",
        "for column in train_df.columns:\n",
        "  unique_types = train_df[column].apply(type).unique()\n",
        "  print(column, unique_types)\n",
        "  if len(unique_types) > 1:\n",
        "    mixed_columns.append(column)\n",
        "\n",
        "mixed_columns\n"
      ],
      "metadata": {
        "id": "c9k_f18k6rA0",
        "colab": {
          "base_uri": "https://localhost:8080/"
        },
        "outputId": "a7ca4c8b-d386-4d3e-9234-ff0faf65ad47"
      },
      "execution_count": 62,
      "outputs": [
        {
          "output_type": "stream",
          "name": "stdout",
          "text": [
            "PassengerId [<class 'int'>]\n",
            "Survived [<class 'int'>]\n",
            "Pclass [<class 'int'>]\n",
            "Name [<class 'str'>]\n",
            "Sex [<class 'str'>]\n",
            "Age [<class 'float'>]\n",
            "SibSp [<class 'int'>]\n",
            "Parch [<class 'int'>]\n",
            "Ticket [<class 'str'>]\n",
            "Fare [<class 'float'>]\n",
            "Cabin [<class 'float'> <class 'str'>]\n",
            "Embarked [<class 'str'> <class 'float'>]\n"
          ]
        },
        {
          "output_type": "execute_result",
          "data": {
            "text/plain": [
              "['Cabin', 'Embarked']"
            ]
          },
          "metadata": {},
          "execution_count": 62
        }
      ]
    },
    {
      "cell_type": "markdown",
      "source": [
        "Q5: In training set, which features contain blank, null or empty values? In test set, which features\n",
        "contain blank, null or empty values?\n"
      ],
      "metadata": {
        "id": "yRds4vqS6JL3"
      }
    },
    {
      "cell_type": "code",
      "source": [
        "# train_df.isna().any()\n",
        "test_df.isna().any()"
      ],
      "metadata": {
        "id": "NL88x2PF6rhg",
        "colab": {
          "base_uri": "https://localhost:8080/"
        },
        "outputId": "0af0e642-35a2-45e3-ba74-46bc47caef0c"
      },
      "execution_count": 65,
      "outputs": [
        {
          "output_type": "execute_result",
          "data": {
            "text/plain": [
              "PassengerId    False\n",
              "Pclass         False\n",
              "Name           False\n",
              "Sex            False\n",
              "Age             True\n",
              "SibSp          False\n",
              "Parch          False\n",
              "Ticket         False\n",
              "Fare            True\n",
              "Cabin           True\n",
              "Embarked       False\n",
              "dtype: bool"
            ]
          },
          "metadata": {},
          "execution_count": 65
        }
      ]
    },
    {
      "cell_type": "markdown",
      "source": [
        "Q6: In training set, what are the data types (e.g., integer, floats or strings ) for various features?\n"
      ],
      "metadata": {
        "id": "wybTqEHw6JV_"
      }
    },
    {
      "cell_type": "code",
      "source": [
        "train_df.dtypes"
      ],
      "metadata": {
        "id": "kzMI9Mu06ry0",
        "colab": {
          "base_uri": "https://localhost:8080/"
        },
        "outputId": "cddad73f-bffa-4726-f580-bd6b2482e22e"
      },
      "execution_count": 66,
      "outputs": [
        {
          "output_type": "execute_result",
          "data": {
            "text/plain": [
              "PassengerId      int64\n",
              "Survived         int64\n",
              "Pclass           int64\n",
              "Name            object\n",
              "Sex             object\n",
              "Age            float64\n",
              "SibSp            int64\n",
              "Parch            int64\n",
              "Ticket          object\n",
              "Fare           float64\n",
              "Cabin           object\n",
              "Embarked        object\n",
              "dtype: object"
            ]
          },
          "metadata": {},
          "execution_count": 66
        }
      ]
    },
    {
      "cell_type": "markdown",
      "source": [
        "Q7: In training set, to understand the distribution of numerical feature values across the samples,\n",
        "please list the properties, including count, mean, std, min, 25% percentile, 50% percentile, 75%\n",
        "percentile, max, of numerical features?\n"
      ],
      "metadata": {
        "id": "iz3XPUcF6Jfa"
      }
    },
    {
      "cell_type": "code",
      "source": [
        "train_df.describe(include=[float,int])"
      ],
      "metadata": {
        "id": "SLF97ppD6sEQ",
        "colab": {
          "base_uri": "https://localhost:8080/",
          "height": 300
        },
        "outputId": "4d624776-0475-433e-abd6-fc0eedc23251"
      },
      "execution_count": 67,
      "outputs": [
        {
          "output_type": "execute_result",
          "data": {
            "text/plain": [
              "       PassengerId    Survived      Pclass         Age       SibSp  \\\n",
              "count   891.000000  891.000000  891.000000  714.000000  891.000000   \n",
              "mean    446.000000    0.383838    2.308642   29.699118    0.523008   \n",
              "std     257.353842    0.486592    0.836071   14.526497    1.102743   \n",
              "min       1.000000    0.000000    1.000000    0.420000    0.000000   \n",
              "25%     223.500000    0.000000    2.000000   20.125000    0.000000   \n",
              "50%     446.000000    0.000000    3.000000   28.000000    0.000000   \n",
              "75%     668.500000    1.000000    3.000000   38.000000    1.000000   \n",
              "max     891.000000    1.000000    3.000000   80.000000    8.000000   \n",
              "\n",
              "            Parch        Fare  \n",
              "count  891.000000  891.000000  \n",
              "mean     0.381594   32.204208  \n",
              "std      0.806057   49.693429  \n",
              "min      0.000000    0.000000  \n",
              "25%      0.000000    7.910400  \n",
              "50%      0.000000   14.454200  \n",
              "75%      0.000000   31.000000  \n",
              "max      6.000000  512.329200  "
            ],
            "text/html": [
              "\n",
              "  <div id=\"df-b93aeccf-c349-4a74-8923-011da5ca130d\">\n",
              "    <div class=\"colab-df-container\">\n",
              "      <div>\n",
              "<style scoped>\n",
              "    .dataframe tbody tr th:only-of-type {\n",
              "        vertical-align: middle;\n",
              "    }\n",
              "\n",
              "    .dataframe tbody tr th {\n",
              "        vertical-align: top;\n",
              "    }\n",
              "\n",
              "    .dataframe thead th {\n",
              "        text-align: right;\n",
              "    }\n",
              "</style>\n",
              "<table border=\"1\" class=\"dataframe\">\n",
              "  <thead>\n",
              "    <tr style=\"text-align: right;\">\n",
              "      <th></th>\n",
              "      <th>PassengerId</th>\n",
              "      <th>Survived</th>\n",
              "      <th>Pclass</th>\n",
              "      <th>Age</th>\n",
              "      <th>SibSp</th>\n",
              "      <th>Parch</th>\n",
              "      <th>Fare</th>\n",
              "    </tr>\n",
              "  </thead>\n",
              "  <tbody>\n",
              "    <tr>\n",
              "      <th>count</th>\n",
              "      <td>891.000000</td>\n",
              "      <td>891.000000</td>\n",
              "      <td>891.000000</td>\n",
              "      <td>714.000000</td>\n",
              "      <td>891.000000</td>\n",
              "      <td>891.000000</td>\n",
              "      <td>891.000000</td>\n",
              "    </tr>\n",
              "    <tr>\n",
              "      <th>mean</th>\n",
              "      <td>446.000000</td>\n",
              "      <td>0.383838</td>\n",
              "      <td>2.308642</td>\n",
              "      <td>29.699118</td>\n",
              "      <td>0.523008</td>\n",
              "      <td>0.381594</td>\n",
              "      <td>32.204208</td>\n",
              "    </tr>\n",
              "    <tr>\n",
              "      <th>std</th>\n",
              "      <td>257.353842</td>\n",
              "      <td>0.486592</td>\n",
              "      <td>0.836071</td>\n",
              "      <td>14.526497</td>\n",
              "      <td>1.102743</td>\n",
              "      <td>0.806057</td>\n",
              "      <td>49.693429</td>\n",
              "    </tr>\n",
              "    <tr>\n",
              "      <th>min</th>\n",
              "      <td>1.000000</td>\n",
              "      <td>0.000000</td>\n",
              "      <td>1.000000</td>\n",
              "      <td>0.420000</td>\n",
              "      <td>0.000000</td>\n",
              "      <td>0.000000</td>\n",
              "      <td>0.000000</td>\n",
              "    </tr>\n",
              "    <tr>\n",
              "      <th>25%</th>\n",
              "      <td>223.500000</td>\n",
              "      <td>0.000000</td>\n",
              "      <td>2.000000</td>\n",
              "      <td>20.125000</td>\n",
              "      <td>0.000000</td>\n",
              "      <td>0.000000</td>\n",
              "      <td>7.910400</td>\n",
              "    </tr>\n",
              "    <tr>\n",
              "      <th>50%</th>\n",
              "      <td>446.000000</td>\n",
              "      <td>0.000000</td>\n",
              "      <td>3.000000</td>\n",
              "      <td>28.000000</td>\n",
              "      <td>0.000000</td>\n",
              "      <td>0.000000</td>\n",
              "      <td>14.454200</td>\n",
              "    </tr>\n",
              "    <tr>\n",
              "      <th>75%</th>\n",
              "      <td>668.500000</td>\n",
              "      <td>1.000000</td>\n",
              "      <td>3.000000</td>\n",
              "      <td>38.000000</td>\n",
              "      <td>1.000000</td>\n",
              "      <td>0.000000</td>\n",
              "      <td>31.000000</td>\n",
              "    </tr>\n",
              "    <tr>\n",
              "      <th>max</th>\n",
              "      <td>891.000000</td>\n",
              "      <td>1.000000</td>\n",
              "      <td>3.000000</td>\n",
              "      <td>80.000000</td>\n",
              "      <td>8.000000</td>\n",
              "      <td>6.000000</td>\n",
              "      <td>512.329200</td>\n",
              "    </tr>\n",
              "  </tbody>\n",
              "</table>\n",
              "</div>\n",
              "      <button class=\"colab-df-convert\" onclick=\"convertToInteractive('df-b93aeccf-c349-4a74-8923-011da5ca130d')\"\n",
              "              title=\"Convert this dataframe to an interactive table.\"\n",
              "              style=\"display:none;\">\n",
              "        \n",
              "  <svg xmlns=\"http://www.w3.org/2000/svg\" height=\"24px\"viewBox=\"0 0 24 24\"\n",
              "       width=\"24px\">\n",
              "    <path d=\"M0 0h24v24H0V0z\" fill=\"none\"/>\n",
              "    <path d=\"M18.56 5.44l.94 2.06.94-2.06 2.06-.94-2.06-.94-.94-2.06-.94 2.06-2.06.94zm-11 1L8.5 8.5l.94-2.06 2.06-.94-2.06-.94L8.5 2.5l-.94 2.06-2.06.94zm10 10l.94 2.06.94-2.06 2.06-.94-2.06-.94-.94-2.06-.94 2.06-2.06.94z\"/><path d=\"M17.41 7.96l-1.37-1.37c-.4-.4-.92-.59-1.43-.59-.52 0-1.04.2-1.43.59L10.3 9.45l-7.72 7.72c-.78.78-.78 2.05 0 2.83L4 21.41c.39.39.9.59 1.41.59.51 0 1.02-.2 1.41-.59l7.78-7.78 2.81-2.81c.8-.78.8-2.07 0-2.86zM5.41 20L4 18.59l7.72-7.72 1.47 1.35L5.41 20z\"/>\n",
              "  </svg>\n",
              "      </button>\n",
              "      \n",
              "  <style>\n",
              "    .colab-df-container {\n",
              "      display:flex;\n",
              "      flex-wrap:wrap;\n",
              "      gap: 12px;\n",
              "    }\n",
              "\n",
              "    .colab-df-convert {\n",
              "      background-color: #E8F0FE;\n",
              "      border: none;\n",
              "      border-radius: 50%;\n",
              "      cursor: pointer;\n",
              "      display: none;\n",
              "      fill: #1967D2;\n",
              "      height: 32px;\n",
              "      padding: 0 0 0 0;\n",
              "      width: 32px;\n",
              "    }\n",
              "\n",
              "    .colab-df-convert:hover {\n",
              "      background-color: #E2EBFA;\n",
              "      box-shadow: 0px 1px 2px rgba(60, 64, 67, 0.3), 0px 1px 3px 1px rgba(60, 64, 67, 0.15);\n",
              "      fill: #174EA6;\n",
              "    }\n",
              "\n",
              "    [theme=dark] .colab-df-convert {\n",
              "      background-color: #3B4455;\n",
              "      fill: #D2E3FC;\n",
              "    }\n",
              "\n",
              "    [theme=dark] .colab-df-convert:hover {\n",
              "      background-color: #434B5C;\n",
              "      box-shadow: 0px 1px 3px 1px rgba(0, 0, 0, 0.15);\n",
              "      filter: drop-shadow(0px 1px 2px rgba(0, 0, 0, 0.3));\n",
              "      fill: #FFFFFF;\n",
              "    }\n",
              "  </style>\n",
              "\n",
              "      <script>\n",
              "        const buttonEl =\n",
              "          document.querySelector('#df-b93aeccf-c349-4a74-8923-011da5ca130d button.colab-df-convert');\n",
              "        buttonEl.style.display =\n",
              "          google.colab.kernel.accessAllowed ? 'block' : 'none';\n",
              "\n",
              "        async function convertToInteractive(key) {\n",
              "          const element = document.querySelector('#df-b93aeccf-c349-4a74-8923-011da5ca130d');\n",
              "          const dataTable =\n",
              "            await google.colab.kernel.invokeFunction('convertToInteractive',\n",
              "                                                     [key], {});\n",
              "          if (!dataTable) return;\n",
              "\n",
              "          const docLinkHtml = 'Like what you see? Visit the ' +\n",
              "            '<a target=\"_blank\" href=https://colab.research.google.com/notebooks/data_table.ipynb>data table notebook</a>'\n",
              "            + ' to learn more about interactive tables.';\n",
              "          element.innerHTML = '';\n",
              "          dataTable['output_type'] = 'display_data';\n",
              "          await google.colab.output.renderOutput(dataTable, element);\n",
              "          const docLink = document.createElement('div');\n",
              "          docLink.innerHTML = docLinkHtml;\n",
              "          element.appendChild(docLink);\n",
              "        }\n",
              "      </script>\n",
              "    </div>\n",
              "  </div>\n",
              "  "
            ]
          },
          "metadata": {},
          "execution_count": 67
        }
      ]
    },
    {
      "cell_type": "markdown",
      "source": [
        "Q8: In training set, to understand the distribution of categorical features, we define: count is the total\n",
        "number of categorical values per column; unique is the total number of unique categorical values per\n",
        "column; top is the most frequent categorical value; freq is the total number of the most frequent\n",
        "categorical value. Please list the properties, including count, unique, top, freq, of categorical\n",
        "features?\n"
      ],
      "metadata": {
        "id": "38z1j99T6JoO"
      }
    },
    {
      "cell_type": "code",
      "source": [
        "train_df.astype('category').describe()"
      ],
      "metadata": {
        "id": "elfPPf1e6sP2",
        "colab": {
          "base_uri": "https://localhost:8080/",
          "height": 175
        },
        "outputId": "94a6ee6f-bcbc-4ea1-bace-fc2900a9d1cf"
      },
      "execution_count": 68,
      "outputs": [
        {
          "output_type": "execute_result",
          "data": {
            "text/plain": [
              "        PassengerId  Survived  Pclass                 Name   Sex    Age  \\\n",
              "count           891       891     891                  891   891  714.0   \n",
              "unique          891         2       3                  891     2   88.0   \n",
              "top               1         0       3  Abbing, Mr. Anthony  male   24.0   \n",
              "freq              1       549     491                    1   577   30.0   \n",
              "\n",
              "        SibSp  Parch Ticket    Fare        Cabin Embarked  \n",
              "count     891    891    891  891.00          204      889  \n",
              "unique      7      7    681  248.00          147        3  \n",
              "top         0      0   1601    8.05  C23 C25 C27        S  \n",
              "freq      608    678      7   43.00            4      644  "
            ],
            "text/html": [
              "\n",
              "  <div id=\"df-f0c0fb19-f62d-4303-a7b8-368022be5cf8\">\n",
              "    <div class=\"colab-df-container\">\n",
              "      <div>\n",
              "<style scoped>\n",
              "    .dataframe tbody tr th:only-of-type {\n",
              "        vertical-align: middle;\n",
              "    }\n",
              "\n",
              "    .dataframe tbody tr th {\n",
              "        vertical-align: top;\n",
              "    }\n",
              "\n",
              "    .dataframe thead th {\n",
              "        text-align: right;\n",
              "    }\n",
              "</style>\n",
              "<table border=\"1\" class=\"dataframe\">\n",
              "  <thead>\n",
              "    <tr style=\"text-align: right;\">\n",
              "      <th></th>\n",
              "      <th>PassengerId</th>\n",
              "      <th>Survived</th>\n",
              "      <th>Pclass</th>\n",
              "      <th>Name</th>\n",
              "      <th>Sex</th>\n",
              "      <th>Age</th>\n",
              "      <th>SibSp</th>\n",
              "      <th>Parch</th>\n",
              "      <th>Ticket</th>\n",
              "      <th>Fare</th>\n",
              "      <th>Cabin</th>\n",
              "      <th>Embarked</th>\n",
              "    </tr>\n",
              "  </thead>\n",
              "  <tbody>\n",
              "    <tr>\n",
              "      <th>count</th>\n",
              "      <td>891</td>\n",
              "      <td>891</td>\n",
              "      <td>891</td>\n",
              "      <td>891</td>\n",
              "      <td>891</td>\n",
              "      <td>714.0</td>\n",
              "      <td>891</td>\n",
              "      <td>891</td>\n",
              "      <td>891</td>\n",
              "      <td>891.00</td>\n",
              "      <td>204</td>\n",
              "      <td>889</td>\n",
              "    </tr>\n",
              "    <tr>\n",
              "      <th>unique</th>\n",
              "      <td>891</td>\n",
              "      <td>2</td>\n",
              "      <td>3</td>\n",
              "      <td>891</td>\n",
              "      <td>2</td>\n",
              "      <td>88.0</td>\n",
              "      <td>7</td>\n",
              "      <td>7</td>\n",
              "      <td>681</td>\n",
              "      <td>248.00</td>\n",
              "      <td>147</td>\n",
              "      <td>3</td>\n",
              "    </tr>\n",
              "    <tr>\n",
              "      <th>top</th>\n",
              "      <td>1</td>\n",
              "      <td>0</td>\n",
              "      <td>3</td>\n",
              "      <td>Abbing, Mr. Anthony</td>\n",
              "      <td>male</td>\n",
              "      <td>24.0</td>\n",
              "      <td>0</td>\n",
              "      <td>0</td>\n",
              "      <td>1601</td>\n",
              "      <td>8.05</td>\n",
              "      <td>C23 C25 C27</td>\n",
              "      <td>S</td>\n",
              "    </tr>\n",
              "    <tr>\n",
              "      <th>freq</th>\n",
              "      <td>1</td>\n",
              "      <td>549</td>\n",
              "      <td>491</td>\n",
              "      <td>1</td>\n",
              "      <td>577</td>\n",
              "      <td>30.0</td>\n",
              "      <td>608</td>\n",
              "      <td>678</td>\n",
              "      <td>7</td>\n",
              "      <td>43.00</td>\n",
              "      <td>4</td>\n",
              "      <td>644</td>\n",
              "    </tr>\n",
              "  </tbody>\n",
              "</table>\n",
              "</div>\n",
              "      <button class=\"colab-df-convert\" onclick=\"convertToInteractive('df-f0c0fb19-f62d-4303-a7b8-368022be5cf8')\"\n",
              "              title=\"Convert this dataframe to an interactive table.\"\n",
              "              style=\"display:none;\">\n",
              "        \n",
              "  <svg xmlns=\"http://www.w3.org/2000/svg\" height=\"24px\"viewBox=\"0 0 24 24\"\n",
              "       width=\"24px\">\n",
              "    <path d=\"M0 0h24v24H0V0z\" fill=\"none\"/>\n",
              "    <path d=\"M18.56 5.44l.94 2.06.94-2.06 2.06-.94-2.06-.94-.94-2.06-.94 2.06-2.06.94zm-11 1L8.5 8.5l.94-2.06 2.06-.94-2.06-.94L8.5 2.5l-.94 2.06-2.06.94zm10 10l.94 2.06.94-2.06 2.06-.94-2.06-.94-.94-2.06-.94 2.06-2.06.94z\"/><path d=\"M17.41 7.96l-1.37-1.37c-.4-.4-.92-.59-1.43-.59-.52 0-1.04.2-1.43.59L10.3 9.45l-7.72 7.72c-.78.78-.78 2.05 0 2.83L4 21.41c.39.39.9.59 1.41.59.51 0 1.02-.2 1.41-.59l7.78-7.78 2.81-2.81c.8-.78.8-2.07 0-2.86zM5.41 20L4 18.59l7.72-7.72 1.47 1.35L5.41 20z\"/>\n",
              "  </svg>\n",
              "      </button>\n",
              "      \n",
              "  <style>\n",
              "    .colab-df-container {\n",
              "      display:flex;\n",
              "      flex-wrap:wrap;\n",
              "      gap: 12px;\n",
              "    }\n",
              "\n",
              "    .colab-df-convert {\n",
              "      background-color: #E8F0FE;\n",
              "      border: none;\n",
              "      border-radius: 50%;\n",
              "      cursor: pointer;\n",
              "      display: none;\n",
              "      fill: #1967D2;\n",
              "      height: 32px;\n",
              "      padding: 0 0 0 0;\n",
              "      width: 32px;\n",
              "    }\n",
              "\n",
              "    .colab-df-convert:hover {\n",
              "      background-color: #E2EBFA;\n",
              "      box-shadow: 0px 1px 2px rgba(60, 64, 67, 0.3), 0px 1px 3px 1px rgba(60, 64, 67, 0.15);\n",
              "      fill: #174EA6;\n",
              "    }\n",
              "\n",
              "    [theme=dark] .colab-df-convert {\n",
              "      background-color: #3B4455;\n",
              "      fill: #D2E3FC;\n",
              "    }\n",
              "\n",
              "    [theme=dark] .colab-df-convert:hover {\n",
              "      background-color: #434B5C;\n",
              "      box-shadow: 0px 1px 3px 1px rgba(0, 0, 0, 0.15);\n",
              "      filter: drop-shadow(0px 1px 2px rgba(0, 0, 0, 0.3));\n",
              "      fill: #FFFFFF;\n",
              "    }\n",
              "  </style>\n",
              "\n",
              "      <script>\n",
              "        const buttonEl =\n",
              "          document.querySelector('#df-f0c0fb19-f62d-4303-a7b8-368022be5cf8 button.colab-df-convert');\n",
              "        buttonEl.style.display =\n",
              "          google.colab.kernel.accessAllowed ? 'block' : 'none';\n",
              "\n",
              "        async function convertToInteractive(key) {\n",
              "          const element = document.querySelector('#df-f0c0fb19-f62d-4303-a7b8-368022be5cf8');\n",
              "          const dataTable =\n",
              "            await google.colab.kernel.invokeFunction('convertToInteractive',\n",
              "                                                     [key], {});\n",
              "          if (!dataTable) return;\n",
              "\n",
              "          const docLinkHtml = 'Like what you see? Visit the ' +\n",
              "            '<a target=\"_blank\" href=https://colab.research.google.com/notebooks/data_table.ipynb>data table notebook</a>'\n",
              "            + ' to learn more about interactive tables.';\n",
              "          element.innerHTML = '';\n",
              "          dataTable['output_type'] = 'display_data';\n",
              "          await google.colab.output.renderOutput(dataTable, element);\n",
              "          const docLink = document.createElement('div');\n",
              "          docLink.innerHTML = docLinkHtml;\n",
              "          element.appendChild(docLink);\n",
              "        }\n",
              "      </script>\n",
              "    </div>\n",
              "  </div>\n",
              "  "
            ]
          },
          "metadata": {},
          "execution_count": 68
        }
      ]
    },
    {
      "cell_type": "markdown",
      "source": [
        "Q9: In training set, can you observe significant correlation (average survivied ratio>0.5) among the\n",
        "group of Pclass=1 and Survived? If Pclass has significant correlation with Survived, we should\n",
        "include this feature in the predictive model. Based on your computation, will you include this feature\n",
        "in the predictive model?\n"
      ],
      "metadata": {
        "id": "SUsC47PQ6JxJ"
      }
    },
    {
      "cell_type": "code",
      "source": [
        "subset = train_df[(train_df['Pclass'] == 1) & (train_df['Survived'] == 1)]\n",
        "correlation = subset['Pclass'].corr(subset['Survived'])\n",
        "\n",
        "# prints nan because all both subsets have the exact same values\n",
        "# print(correlation)\n",
        "\n",
        "# and there is a negative correlation of 33% overall between the two columns:\n",
        "print(train_df['Pclass'].corr(train_df['Survived']))\n"
      ],
      "metadata": {
        "colab": {
          "base_uri": "https://localhost:8080/"
        },
        "id": "-Onuw_7q6sk_",
        "outputId": "b15691f4-d5ab-4615-a257-1b2d062aea5a"
      },
      "execution_count": 70,
      "outputs": [
        {
          "output_type": "stream",
          "name": "stdout",
          "text": [
            "-0.33848103596101475\n"
          ]
        }
      ]
    },
    {
      "cell_type": "markdown",
      "source": [
        "Q10: In training set, are Women (Sex=female) were more likely to have survived?"
      ],
      "metadata": {
        "id": "d-10vTKj6J6w"
      }
    },
    {
      "cell_type": "code",
      "source": [
        "# total num of females\n",
        "female_total = train_df[(train_df.Sex == 'female')].Sex.count()\n",
        "female_total # 314 females\n",
        "\n",
        "# female survivors\n",
        "female_survived_cnt = train_df[(train_df.Sex == 'female') & (train_df.Survived == 1)].Survived.count()\n",
        "female_survived_cnt # 233 female living\n",
        "\n",
        "\n",
        "print((female_survived_cnt / female_total) * 100)\n",
        "\n",
        "# total num of males\n",
        "male_total = train_df[(train_df.Sex == 'male')].Sex.count()\n",
        "male_total # 314 males\n",
        "\n",
        "# male survivors\n",
        "male_survived_cnt = train_df[(train_df.Sex == 'male') & (train_df.Survived == 1)].Survived.count()\n",
        "male_survived_cnt # 233 male living\n",
        "\n",
        "\n",
        "print((male_survived_cnt / male_total) * 100)"
      ],
      "metadata": {
        "id": "oWWFSLBK6svW",
        "colab": {
          "base_uri": "https://localhost:8080/"
        },
        "outputId": "0137d579-ff50-4523-ad00-d1c50f37e0d7"
      },
      "execution_count": 6,
      "outputs": [
        {
          "output_type": "stream",
          "name": "stdout",
          "text": [
            "74.20382165605095\n",
            "18.890814558058924\n"
          ]
        }
      ]
    },
    {
      "cell_type": "markdown",
      "source": [
        "Q11: In training set, let us start by understanding correlations between a numeric feature (Age) and\n",
        "our predictive goal (Survived). A histogram chart is useful for analyzing continuous numerical\n",
        "variables like Age where banding or ranges will help identify useful patterns. The histogram can\n",
        "indicate distribution of samples using automatically defined bins or equally ranged bands. This helps\n",
        "us answer questions relating to specific bands (e.g., infants, old). Please plot the histograms\n",
        "between ages and Survived (Figure 1 is an example), and answer the following questions:\n",
        "\n",
        "\n",
        "• Do infants (Age <=4) have high survival rate?\n",
        "\n",
        "• Do oldest passengers (Age = 80) survive?\n",
        "\n",
        "• Do large number of 15-25 year olds not survive?\n",
        "\n",
        "Based on your analysis of the figures,\n",
        "\n",
        "• Should we consider Age in our model training? (If yes, then we should complete the\n",
        "Age feature for null values.)\n",
        "\n",
        "• Should we should band age groups?"
      ],
      "metadata": {
        "id": "MbiScwIIBbdy"
      }
    },
    {
      "cell_type": "code",
      "source": [
        "pclass1_deaths = train_df[(train_df.Pclass == 1) & (train_df.Survived == 0)]['Age']\n",
        "pclass2_deaths = train_df[(train_df.Pclass == 2) & (train_df.Survived == 0)]['Age']\n",
        "pclass3_deaths = train_df[(train_df.Pclass == 3) & (train_df.Survived == 0)]['Age']\n",
        "\n",
        "pclass1_survivors = train_df[(train_df.Pclass == 1) & (train_df.Survived == 1)]['Age']\n",
        "pclass2_survivors = train_df[(train_df.Pclass == 2) & (train_df.Survived == 1)]['Age']\n",
        "pclass3_survivors = train_df[(train_df.Pclass == 3) & (train_df.Survived == 1)]['Age']\n",
        "\n",
        "\n",
        "\n",
        "train_died = train_df.query('Survived == 0') # subset of data for records that did not survive\n",
        "train_survived = train_df.query('Survived == 1') # subset of data for records that survived\n",
        "\n",
        "# histogram of survived vs deaths by ages\n",
        "plt.figure('Ttianic surival vs death') # create and name the figure\n",
        "plt.subplot(121) # subplot 1 (rows 1, columns 2, plot number)\n",
        "plt.hist(train_died['Age'], color='r', edgecolor='black') # create histogram of age from query (did not survive)\n",
        "plt.title('Survived = 0') # title subplot\n",
        "plt.xlabel('Age') # label X-Axis\n",
        "plt.ylabel('Frequency') # label y-Axis\n",
        "\n",
        "plt.subplot(122) # subplot 2 (rows 1, columns 2, plot number)\n",
        "plt.hist(train_survived['Age'], color='g', edgecolor='black') # create histogram of age from query (survived)\n",
        "plt.title('Survived = 1') # title subplot\n",
        "plt.xlabel('Age') # label X-Axis\n",
        "plt.ylabel('Frequency') # label y-Axis\n",
        "plt.show() # display histograms\n",
        "\n",
        "\n",
        "'''\n",
        "• Do infants (Age <=4) have high survival rate?\n",
        "\n",
        "• Do oldest passengers (Age = 80) survive?\n",
        "\n",
        "• Do large number of 15-25 year olds not survive?\n",
        "Yes, more have died than survived\n",
        "\n",
        "Based on your analysis of the figures,\n",
        "\n",
        "• Should we consider Age in our model training? (If yes, then we should complete the Age feature for null values.)\n",
        "Yes\n",
        "\n",
        "• Should we should band age groups?\n",
        "\n",
        "Yes, we just need to make generalizations from the data given and the plot below already does that\n",
        "'''"
      ],
      "metadata": {
        "colab": {
          "base_uri": "https://localhost:8080/",
          "height": 472
        },
        "id": "MGeYPfR3W8Oz",
        "outputId": "aa84ef8d-f9d2-47da-d9a4-0081356a4c28"
      },
      "execution_count": 3,
      "outputs": [
        {
          "output_type": "display_data",
          "data": {
            "text/plain": [
              "<Figure size 640x480 with 2 Axes>"
            ],
            "image/png": "[encoded data removed]"
          },
          "metadata": {}
        }
      ]
    },
    {
      "cell_type": "markdown",
      "source": [
        "Q12: In training set, we can combine three features (age, Pclass, and survivied) for identifying\n",
        "correlations using a single plot. This can be done with numerical and categorical features which\n",
        "have numeric values.\n",
        "\n",
        "Please plot the plot using python, and answer the following questions:\n",
        "\n",
        "• Does Pclass=3 have most passengers, however most did not survive?\n",
        "\n",
        "• Do infant passengers in Pclass=2 and Pclass=3 mostly survive?\n",
        "\n",
        "• Do most passengers in Pclass=1 survive?\n",
        "\n",
        "• Does Pclass vary in terms of Age distribution of passengers?\n",
        "\n",
        "• Should we consider Pclass for model training?"
      ],
      "metadata": {
        "id": "kVdgGs-RBbur"
      }
    },
    {
      "cell_type": "code",
      "source": [
        "plt.figure('Ttianic surival vs death') # create and name the figure\n",
        "\n",
        "plt.hist(pclass1_deaths, edgecolor='black', bins=20)\n",
        "plt.title('Pclass = 1 | Survived = 0') # title subplot\n",
        "plt.xlabel('Age')\n",
        "plt.ylabel('Frequency')\n",
        "plt.xlim(0, 80)\n",
        "plt.ylim(0, 60)\n",
        "plt.show()\n",
        "\n",
        "plt.hist(pclass1_survivors, edgecolor='black', bins=20)\n",
        "plt.title('Pclass = 1 | Survived = 1') # title subplot\n",
        "plt.xlabel('Age')\n",
        "plt.ylabel('Frequency')\n",
        "plt.xlim(0, 80)\n",
        "plt.ylim(0, 60)\n",
        "plt.show()\n",
        "\n",
        "plt.hist(pclass2_deaths, edgecolor='black', bins=20)\n",
        "plt.title('Pclass = 2 | Survived = 0') # title subplot\n",
        "plt.xlabel('Age')\n",
        "plt.ylabel('Frequency')\n",
        "plt.xlim(0, 80)\n",
        "plt.ylim(0, 60)\n",
        "plt.show()\n",
        "\n",
        "plt.hist(pclass2_survivors, edgecolor='black', bins=20)\n",
        "plt.title('Pclass = 2 | Survived = 1') # title subplot\n",
        "plt.xlabel('Age')\n",
        "plt.ylabel('Frequency')\n",
        "plt.xlim(0, 80)\n",
        "plt.ylim(0, 60)\n",
        "plt.show()\n",
        "\n",
        "plt.hist(pclass3_deaths, edgecolor='black', bins=20)\n",
        "plt.title('Pclass = 3 | Survived = 0') # title subplot\n",
        "plt.xlabel('Age')\n",
        "plt.ylabel('Frequency')\n",
        "plt.xlim(0, 80)\n",
        "plt.ylim(0, 50)\n",
        "plt.show()\n",
        "\n",
        "plt.hist(pclass3_survivors, edgecolor='black', bins=20)\n",
        "plt.title('Pclass = 3 | Survived = 1') # title subplot\n",
        "plt.xlabel('Age')\n",
        "plt.ylabel('Frequency')\n",
        "plt.xlim(0, 80)\n",
        "plt.ylim(0, 60)\n",
        "plt.show()"
      ],
      "metadata": {
        "colab": {
          "base_uri": "https://localhost:8080/",
          "height": 1000
        },
        "id": "_2cTT14RBgv4",
        "outputId": "ee7393cf-a693-477f-e493-ff1f476579e4"
      },
      "execution_count": 4,
      "outputs": [
        {
          "output_type": "display_data",
          "data": {
            "text/plain": [
              "<Figure size 640x480 with 1 Axes>"
            ],
            "image/png": "[encoded data removed]"
          },
          "metadata": {}
        },
        {
          "output_type": "display_data",
          "data": {
            "text/plain": [
              "<Figure size 640x480 with 1 Axes>"
            ],
            "image/png": "[encoded data removed]"
          },
          "metadata": {}
        },
        {
          "output_type": "display_data",
          "data": {
            "text/plain": [
              "<Figure size 640x480 with 1 Axes>"
            ],
            "image/png": "[encoded data removed]"
          },
          "metadata": {}
        },
        {
          "output_type": "display_data",
          "data": {
            "text/plain": [
              "<Figure size 640x480 with 1 Axes>"
            ],
            "image/png": "[encoded data removed]"
          },
          "metadata": {}
        },
        {
          "output_type": "display_data",
          "data": {
            "text/plain": [
              "<Figure size 640x480 with 1 Axes>"
            ],
            "image/png": "[encoded data removed]"
          },
          "metadata": {}
        },
        {
          "output_type": "display_data",
          "data": {
            "text/plain": [
              "<Figure size 640x480 with 1 Axes>"
            ],
            "image/png": "[encoded data removed]"
          },
          "metadata": {}
        }
      ]
    },
    {
      "cell_type": "markdown",
      "source": [
        "Q13: In training set, we want to correlate categorical features (with non-numeric values) and numeric\n",
        "features. We can consider correlating Embarked (Categorical non-numeric), Sex (Categorical non-\n",
        "numeric), Fare (Numeric continuous), with Survived (Categorical numeric). Please plot a figure to\n",
        "illustrate the correlations of Embarked, Sex, Fare, and Survived.\n",
        "\n",
        "\n",
        "And answer the following questions:\n",
        "\n",
        "• Do higher fare paying passengers have better survival?\n",
        "\n",
        "• Should we consider banding fare feature?"
      ],
      "metadata": {
        "id": "s-UwqnGpBb8U"
      }
    },
    {
      "cell_type": "code",
      "source": [
        "# Q13\n",
        "survived = [0, 1]\n",
        "embarked = ['S', 'C', 'Q']\n",
        "\n",
        "\n",
        "sex_ES_MD = train_df[(train_df.Embarked == 'S') & (train_df.Survived == 0) & (train_df.Sex == 'male')]['Fare']\n",
        "sex_ES_FD = train_df[(train_df.Embarked == 'S') & (train_df.Survived == 0) & (train_df.Sex == 'female')]['Fare']\n",
        "\n",
        "sex_EC_MD = train_df[(train_df.Embarked == 'C') & (train_df.Survived == 0) & (train_df.Sex == 'male')]['Fare']\n",
        "sex_EC_FD = train_df[(train_df.Embarked == 'C') & (train_df.Survived == 0) & (train_df.Sex == 'female')]['Fare']\n",
        "\n",
        "sex_EQ_MD = train_df[(train_df.Embarked == 'Q') & (train_df.Survived == 0) & (train_df.Sex == 'male')]['Fare']\n",
        "sex_EQ_FD = train_df[(train_df.Embarked == 'Q') & (train_df.Survived == 0) & (train_df.Sex == 'female')]['Fare']\n",
        "\n",
        "\n",
        "\n",
        "sex_ES_MS = train_df[(train_df.Embarked == 'S') & (train_df.Survived == 1) & (train_df.Sex == 'male')]['Fare']\n",
        "sex_ES_FS = train_df[(train_df.Embarked == 'S') & (train_df.Survived == 1) & (train_df.Sex == 'female')]['Fare']\n",
        "\n",
        "sex_EC_MS = train_df[(train_df.Embarked == 'C') & (train_df.Survived == 1) & (train_df.Sex == 'male')]['Fare']\n",
        "sex_EC_FS = train_df[(train_df.Embarked == 'C') & (train_df.Survived == 1) & (train_df.Sex == 'female')]['Fare']\n",
        "\n",
        "sex_EQ_MS = train_df[(train_df.Embarked == 'Q') & (train_df.Survived == 1) & (train_df.Sex == 'male')]['Fare']\n",
        "sex_EQ_FS = train_df[(train_df.Embarked == 'Q') & (train_df.Survived == 1) & (train_df.Sex == 'female')]['Fare']\n",
        "\n",
        "# print(train_df['Fare'].sum())\n",
        "\n",
        "\n",
        "# deaths\n",
        "plt.figure()\n",
        "genders = ['Male', 'Female']\n",
        "# averages are stored in fares\n",
        "# must be list of numeric datatypes\n",
        "fares = [sex_ES_MD.sum() / len(sex_ES_MD), sex_ES_FD.sum() / len(sex_ES_FD)]\n",
        "plt.bar(genders, fares, color='green')\n",
        "plt.title('Embarked = S | Survived = 0')\n",
        "plt.xlabel('Sex')\n",
        "plt.ylabel('Fare')\n",
        "plt.show()\n",
        "\n",
        "plt.figure()\n",
        "genders = ['Male', 'Female']\n",
        "fares = [sex_EC_MD.sum() / len(sex_EC_MD), sex_EC_FD.sum() / len(sex_EC_FD)]\n",
        "plt.bar(genders, fares, color='green')\n",
        "plt.title('Embarked = C | Survived = 0')\n",
        "plt.xlabel('Sex')\n",
        "plt.ylabel('Fare')\n",
        "plt.show()\n",
        "\n",
        "\n",
        "plt.figure()\n",
        "genders = ['Male', 'Female']\n",
        "fares = [sex_EQ_MD.sum() / len(sex_EQ_MD), sex_EQ_FD.sum() / len(sex_EQ_FD)]\n",
        "plt.bar(genders, fares, color='green')\n",
        "plt.title('Embarked = Q | Survived = 0')\n",
        "plt.xlabel('Sex')\n",
        "plt.ylabel('Fare')\n",
        "plt.show()\n",
        "\n",
        "\n",
        "# # survivors\n",
        "plt.figure()\n",
        "genders = ['Male', 'Female']\n",
        "fares = [sex_ES_MS.sum() / len(sex_ES_MS), sex_ES_FS.sum() / len(sex_ES_FS)]\n",
        "plt.bar(genders, fares, color='green')\n",
        "plt.title('Embarked = S | Survived = 1')\n",
        "plt.xlabel('Sex')\n",
        "plt.ylabel('Fare')\n",
        "plt.show()\n",
        "\n",
        "plt.figure()\n",
        "genders = ['Male', 'Female']\n",
        "fares = [sex_EC_MS.sum() / len(sex_EC_MS), sex_EC_FS.sum() / len(sex_EC_FS)]\n",
        "plt.bar(genders, fares, color='green')\n",
        "plt.title('Embarked = C | Survived = 1')\n",
        "plt.xlabel('Sex')\n",
        "plt.ylabel('Fare')\n",
        "plt.show()\n",
        "\n",
        "plt.figure()\n",
        "genders = ['Male', 'Female']\n",
        "fares = [sex_EQ_MS.sum() / len(sex_EQ_MS), sex_EQ_FS.sum() / len(sex_EQ_FS)]\n",
        "plt.bar(genders, fares, color='green')\n",
        "plt.title('Embarked = Q | Survived = 1')\n",
        "plt.xlabel('Sex')\n",
        "plt.ylabel('Fare')\n",
        "plt.show()\n",
        "\n",
        "# higher paying passengers generally do have a better chance of survival but not always. For instance\n",
        "# the graph of Embarked = S had a lot of male passenger deaths with high paying fares\n",
        "# I think we should drop fare feature because of the outlier graph"
      ],
      "metadata": {
        "colab": {
          "base_uri": "https://localhost:8080/",
          "height": 1000
        },
        "id": "eBOFOBkRBijK",
        "outputId": "b7516b94-811a-4098-8608-7dd305f047a1"
      },
      "execution_count": 5,
      "outputs": [
        {
          "output_type": "display_data",
          "data": {
            "text/plain": [
              "<Figure size 640x480 with 1 Axes>"
            ],
            "image/png": "[encoded data removed]"
          },
          "metadata": {}
        },
        {
          "output_type": "display_data",
          "data": {
            "text/plain": [
              "<Figure size 640x480 with 1 Axes>"
            ],
            "image/png": "[encoded data removed]"
          },
          "metadata": {}
        },
        {
          "output_type": "display_data",
          "data": {
            "text/plain": [
              "<Figure size 640x480 with 1 Axes>"
            ],
            "image/png": "[encoded data removed]"
          },
          "metadata": {}
        },
        {
          "output_type": "display_data",
          "data": {
            "text/plain": [
              "<Figure size 640x480 with 1 Axes>"
            ],
            "image/png": "[encoded data removed]"
          },
          "metadata": {}
        },
        {
          "output_type": "display_data",
          "data": {
            "text/plain": [
              "<Figure size 640x480 with 1 Axes>"
            ],
            "image/png": "[encoded data removed]"
          },
          "metadata": {}
        },
        {
          "output_type": "display_data",
          "data": {
            "text/plain": [
              "<Figure size 640x480 with 1 Axes>"
            ],
            "image/png": "[encoded data removed]"
          },
          "metadata": {}
        }
      ]
    },
    {
      "cell_type": "markdown",
      "source": [
        "Q14: In training set, what is the rate of duplicates for the Ticket feature? Is there a correlation\n",
        "between Ticket and survival? Should we drop the Ticket feature?"
      ],
      "metadata": {
        "id": "FjxWuaX0BcIR"
      }
    },
    {
      "cell_type": "code",
      "source": [
        "# Q14\n",
        "# total number of duplicate tickets / total number of tickets\n",
        "print('{} %'.format((train_df['Ticket'].duplicated().sum() / train_df['Ticket'].count()) * 100))\n",
        "\n",
        "# ticket is mixed data type and survival is just integers, so no correlation\n",
        "# we should drop because theres no correlation\n"
      ],
      "metadata": {
        "colab": {
          "base_uri": "https://localhost:8080/"
        },
        "id": "Hj6jf-bZBiz8",
        "outputId": "1271bfef-4d6c-4c4e-da4f-dee8e08ebe8e"
      },
      "execution_count": 12,
      "outputs": [
        {
          "output_type": "stream",
          "name": "stdout",
          "text": [
            "23.56902356902357 %\n"
          ]
        }
      ]
    },
    {
      "cell_type": "markdown",
      "source": [
        "Q15: In the training set, Is the Cabin feature complete? How many null values there are in the Cabin\n",
        "features of the combined dataset of training and test dataset? Should we drop the Cabin feature?"
      ],
      "metadata": {
        "id": "re18f0YBBcVL"
      }
    },
    {
      "cell_type": "code",
      "source": [
        "print(train_df['Cabin'].isna().sum())\n",
        "print(train_df['Cabin'].count())\n",
        "print(len(train_df['Cabin']))\n",
        "\n",
        "print()\n",
        "\n",
        "print(test_df['Cabin'].isna().sum())\n",
        "print(test_df['Cabin'].count())\n",
        "print(len(test_df['Cabin']))\n"
      ],
      "metadata": {
        "colab": {
          "base_uri": "https://localhost:8080/"
        },
        "id": "35Awx7wvBjBJ",
        "outputId": "182d24ce-089e-4898-eb43-68d1a80d9979"
      },
      "execution_count": 13,
      "outputs": [
        {
          "output_type": "stream",
          "name": "stdout",
          "text": [
            "687\n",
            "204\n",
            "891\n",
            "\n",
            "327\n",
            "91\n",
            "418\n"
          ]
        }
      ]
    },
    {
      "cell_type": "markdown",
      "source": [
        "Q16: In the training set, we can convert features which contain strings to numerical values. This is\n",
        "required by most model algorithms. Doing so will also help us in achieving the feature completing\n",
        "goal. In this question ,please convert Sex feature to a new feature called Gender where female=1\n",
        "and male=0."
      ],
      "metadata": {
        "id": "TLsOfc_UBcdo"
      }
    },
    {
      "cell_type": "code",
      "source": [
        "def gender_to_int(s: str) -> int:\n",
        "  if s == 'male': return 0\n",
        "  if s == 'female': return 1\n",
        "  \n",
        "  print('invalid string')\n",
        "  return -1\n",
        "\n",
        "train_df['Sex_in_numerical'] = train_df['Sex'].apply(gender_to_int)\n",
        "\n",
        "print(train_df['Sex_in_numerical'])\n"
      ],
      "metadata": {
        "colab": {
          "base_uri": "https://localhost:8080/"
        },
        "id": "NgpHFX1KBjOd",
        "outputId": "f78e82cb-7e3f-42cd-fc82-284dc276629c"
      },
      "execution_count": 14,
      "outputs": [
        {
          "output_type": "stream",
          "name": "stdout",
          "text": [
            "0      0\n",
            "1      1\n",
            "2      1\n",
            "3      1\n",
            "4      0\n",
            "      ..\n",
            "886    0\n",
            "887    1\n",
            "888    1\n",
            "889    0\n",
            "890    0\n",
            "Name: Sex_in_numerical, Length: 891, dtype: int64\n"
          ]
        }
      ]
    },
    {
      "cell_type": "markdown",
      "source": [
        "Q17: In the training set, we start estimating and completing features with missing or null values. We\n",
        "will first do this for the Age feature. We can consider three methods to complete a numerical\n",
        "continuous feature. A simple way is to generate random numbers between mean and standard\n",
        "deviation. More accurate way of guessing missing values is to use the K-Nearest Neighbor algorithm\n",
        "to select the top-K most similar data points, and then use the top-K most similar data points to\n",
        "impute the missing values of ages."
      ],
      "metadata": {
        "id": "3kx6XF0tBcoI"
      }
    },
    {
      "cell_type": "code",
      "source": [
        "age_mean = train_df['Age'].mean()\n",
        "\n",
        "# print(age_mean)\n",
        "# print(train_df['Age'].isna().values.any())\n",
        "\n",
        "train_df['Age'].fillna(value=age_mean,inplace = True)"
      ],
      "metadata": {
        "colab": {
          "base_uri": "https://localhost:8080/"
        },
        "id": "uPSlVn2UBjYy",
        "outputId": "b7b79973-415b-4257-87e2-6b0a2256ee00"
      },
      "execution_count": 17,
      "outputs": [
        {
          "output_type": "stream",
          "name": "stdout",
          "text": [
            "29.69911764705882\n",
            "True\n"
          ]
        },
        {
          "output_type": "execute_result",
          "data": {
            "text/plain": [
              "0      22.000000\n",
              "1      38.000000\n",
              "2      26.000000\n",
              "3      35.000000\n",
              "4      35.000000\n",
              "         ...    \n",
              "886    27.000000\n",
              "887    19.000000\n",
              "888    29.699118\n",
              "889    26.000000\n",
              "890    32.000000\n",
              "Name: Age, Length: 891, dtype: float64"
            ]
          },
          "metadata": {},
          "execution_count": 17
        }
      ]
    },
    {
      "cell_type": "markdown",
      "source": [
        "Q18: In the training set, complete a categorical feature: Embarked feature takes S, Q, C values\n",
        "based on port of embarkation. Our training dataset has some missing values. Please simply fill these\n",
        "with the most common occurrences."
      ],
      "metadata": {
        "id": "DCpZN7TjBcxd"
      }
    },
    {
      "cell_type": "code",
      "source": [
        "embarked_mode = train_df['Embarked'].mode()\n",
        "print(embarked_mode)\n",
        "train_df['Embarked'].fillna(value=embarked_mode[0], inplace=True)\n",
        "\n",
        "# train_df['Embarked']"
      ],
      "metadata": {
        "colab": {
          "base_uri": "https://localhost:8080/"
        },
        "id": "3Y6M_arVBjhl",
        "outputId": "d878acd1-c6d3-4603-aa4f-e9ade6580110"
      },
      "execution_count": 29,
      "outputs": [
        {
          "output_type": "stream",
          "name": "stdout",
          "text": [
            "0    S\n",
            "Name: Embarked, dtype: object\n"
          ]
        }
      ]
    },
    {
      "cell_type": "markdown",
      "source": [
        "Q19: In the training set, complete and convert a numeric feature. Please complete the Fare feature\n",
        "for single missing value in test dataset using mode to get the value that occurs most frequently for\n",
        "this feature."
      ],
      "metadata": {
        "id": "oFPu9NzoBc6a"
      }
    },
    {
      "cell_type": "code",
      "source": [
        "test_df_fare_mode = test_df['Fare'].mode()\n",
        "print(test_df_fare_mode[0])\n",
        "\n",
        "print(test_df['Fare'].isna().any())\n",
        "test_df['Fare'].fillna(value=test_df_fare_mode[0], inplace=True)\n",
        "print(test_df['Fare'].isna().any())"
      ],
      "metadata": {
        "colab": {
          "base_uri": "https://localhost:8080/"
        },
        "id": "V4JUCFvJBjqo",
        "outputId": "271d3b64-083d-4af9-b720-046e76eada45"
      },
      "execution_count": 21,
      "outputs": [
        {
          "output_type": "stream",
          "name": "stdout",
          "text": [
            "7.75\n",
            "True\n",
            "False\n"
          ]
        }
      ]
    },
    {
      "cell_type": "markdown",
      "source": [
        "Q20"
      ],
      "metadata": {
        "id": "kPoPJ3iABdDd"
      }
    },
    {
      "cell_type": "code",
      "source": [
        "def fare_to_ordinal_fare(fare: float) -> int:\n",
        "  if fare <= -0.001: return -1\n",
        "\n",
        "  if fare > -0.001 and fare <= 7.91: return 0\n",
        "  if fare > 7.91 and fare <= 14.454: return 1\n",
        "  if fare > 14.454 and fare <= 31.0: return 2\n",
        "  if fare > 31.0 and fare <= 512.329: return 3\n",
        "\n",
        "# train_df['Fare'].head()\n",
        "\n",
        "train_df['Ordinal_Fare'] = train_df['Fare'].apply(fare_to_ordinal_fare)\n",
        "\n",
        "train_df['Ordinal_Fare'].isna().any()\n",
        "train_df['Ordinal_Fare'].dropna().astype(int)"
      ],
      "metadata": {
        "colab": {
          "base_uri": "https://localhost:8080/"
        },
        "id": "AkgRtTcPBj6c",
        "outputId": "03ff9b90-09af-43ce-e5ad-753f54a1e37b"
      },
      "execution_count": 23,
      "outputs": [
        {
          "output_type": "execute_result",
          "data": {
            "text/plain": [
              "0      0\n",
              "1      3\n",
              "2      1\n",
              "3      3\n",
              "4      1\n",
              "      ..\n",
              "886    1\n",
              "887    2\n",
              "888    2\n",
              "889    2\n",
              "890    0\n",
              "Name: Ordinal_Fare, Length: 888, dtype: int64"
            ]
          },
          "metadata": {},
          "execution_count": 23
        }
      ]
    },
    {
      "cell_type": "code",
      "source": [],
      "metadata": {
        "id": "SVRyUheQLbA3"
      },
      "execution_count": null,
      "outputs": []
    }
  ]
}